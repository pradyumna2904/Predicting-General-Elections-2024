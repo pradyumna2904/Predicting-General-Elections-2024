{
 "cells": [
  {
   "cell_type": "code",
   "execution_count": 5,
   "metadata": {},
   "outputs": [
    {
     "ename": "FileNotFoundError",
     "evalue": "[Errno 2] No such file or directory: 'LS2014Candidate.csv'",
     "output_type": "error",
     "traceback": [
      "\u001b[1;31m---------------------------------------------------------------------------\u001b[0m",
      "\u001b[1;31mFileNotFoundError\u001b[0m                         Traceback (most recent call last)",
      "Cell \u001b[1;32mIn[5], line 4\u001b[0m\n\u001b[0;32m      2\u001b[0m \u001b[39mfrom\u001b[39;00m \u001b[39mcollections\u001b[39;00m \u001b[39mimport\u001b[39;00m defaultdict\n\u001b[0;32m      3\u001b[0m \u001b[39m#df = pd.read_csv(\"election-results-csv/LS2009Candidate.csv\")\u001b[39;00m\n\u001b[1;32m----> 4\u001b[0m df \u001b[39m=\u001b[39m pd\u001b[39m.\u001b[39;49mread_csv(\u001b[39m\"\u001b[39;49m\u001b[39mLS2014Candidate.csv\u001b[39;49m\u001b[39m\"\u001b[39;49m)\n",
      "File \u001b[1;32mc:\\Users\\Pradyumna\\AppData\\Local\\Programs\\Python\\Python311\\Lib\\site-packages\\pandas\\io\\parsers\\readers.py:912\u001b[0m, in \u001b[0;36mread_csv\u001b[1;34m(filepath_or_buffer, sep, delimiter, header, names, index_col, usecols, dtype, engine, converters, true_values, false_values, skipinitialspace, skiprows, skipfooter, nrows, na_values, keep_default_na, na_filter, verbose, skip_blank_lines, parse_dates, infer_datetime_format, keep_date_col, date_parser, date_format, dayfirst, cache_dates, iterator, chunksize, compression, thousands, decimal, lineterminator, quotechar, quoting, doublequote, escapechar, comment, encoding, encoding_errors, dialect, on_bad_lines, delim_whitespace, low_memory, memory_map, float_precision, storage_options, dtype_backend)\u001b[0m\n\u001b[0;32m    899\u001b[0m kwds_defaults \u001b[39m=\u001b[39m _refine_defaults_read(\n\u001b[0;32m    900\u001b[0m     dialect,\n\u001b[0;32m    901\u001b[0m     delimiter,\n\u001b[1;32m   (...)\u001b[0m\n\u001b[0;32m    908\u001b[0m     dtype_backend\u001b[39m=\u001b[39mdtype_backend,\n\u001b[0;32m    909\u001b[0m )\n\u001b[0;32m    910\u001b[0m kwds\u001b[39m.\u001b[39mupdate(kwds_defaults)\n\u001b[1;32m--> 912\u001b[0m \u001b[39mreturn\u001b[39;00m _read(filepath_or_buffer, kwds)\n",
      "File \u001b[1;32mc:\\Users\\Pradyumna\\AppData\\Local\\Programs\\Python\\Python311\\Lib\\site-packages\\pandas\\io\\parsers\\readers.py:577\u001b[0m, in \u001b[0;36m_read\u001b[1;34m(filepath_or_buffer, kwds)\u001b[0m\n\u001b[0;32m    574\u001b[0m _validate_names(kwds\u001b[39m.\u001b[39mget(\u001b[39m\"\u001b[39m\u001b[39mnames\u001b[39m\u001b[39m\"\u001b[39m, \u001b[39mNone\u001b[39;00m))\n\u001b[0;32m    576\u001b[0m \u001b[39m# Create the parser.\u001b[39;00m\n\u001b[1;32m--> 577\u001b[0m parser \u001b[39m=\u001b[39m TextFileReader(filepath_or_buffer, \u001b[39m*\u001b[39;49m\u001b[39m*\u001b[39;49mkwds)\n\u001b[0;32m    579\u001b[0m \u001b[39mif\u001b[39;00m chunksize \u001b[39mor\u001b[39;00m iterator:\n\u001b[0;32m    580\u001b[0m     \u001b[39mreturn\u001b[39;00m parser\n",
      "File \u001b[1;32mc:\\Users\\Pradyumna\\AppData\\Local\\Programs\\Python\\Python311\\Lib\\site-packages\\pandas\\io\\parsers\\readers.py:1407\u001b[0m, in \u001b[0;36mTextFileReader.__init__\u001b[1;34m(self, f, engine, **kwds)\u001b[0m\n\u001b[0;32m   1404\u001b[0m     \u001b[39mself\u001b[39m\u001b[39m.\u001b[39moptions[\u001b[39m\"\u001b[39m\u001b[39mhas_index_names\u001b[39m\u001b[39m\"\u001b[39m] \u001b[39m=\u001b[39m kwds[\u001b[39m\"\u001b[39m\u001b[39mhas_index_names\u001b[39m\u001b[39m\"\u001b[39m]\n\u001b[0;32m   1406\u001b[0m \u001b[39mself\u001b[39m\u001b[39m.\u001b[39mhandles: IOHandles \u001b[39m|\u001b[39m \u001b[39mNone\u001b[39;00m \u001b[39m=\u001b[39m \u001b[39mNone\u001b[39;00m\n\u001b[1;32m-> 1407\u001b[0m \u001b[39mself\u001b[39m\u001b[39m.\u001b[39m_engine \u001b[39m=\u001b[39m \u001b[39mself\u001b[39;49m\u001b[39m.\u001b[39;49m_make_engine(f, \u001b[39mself\u001b[39;49m\u001b[39m.\u001b[39;49mengine)\n",
      "File \u001b[1;32mc:\\Users\\Pradyumna\\AppData\\Local\\Programs\\Python\\Python311\\Lib\\site-packages\\pandas\\io\\parsers\\readers.py:1661\u001b[0m, in \u001b[0;36mTextFileReader._make_engine\u001b[1;34m(self, f, engine)\u001b[0m\n\u001b[0;32m   1659\u001b[0m     \u001b[39mif\u001b[39;00m \u001b[39m\"\u001b[39m\u001b[39mb\u001b[39m\u001b[39m\"\u001b[39m \u001b[39mnot\u001b[39;00m \u001b[39min\u001b[39;00m mode:\n\u001b[0;32m   1660\u001b[0m         mode \u001b[39m+\u001b[39m\u001b[39m=\u001b[39m \u001b[39m\"\u001b[39m\u001b[39mb\u001b[39m\u001b[39m\"\u001b[39m\n\u001b[1;32m-> 1661\u001b[0m \u001b[39mself\u001b[39m\u001b[39m.\u001b[39mhandles \u001b[39m=\u001b[39m get_handle(\n\u001b[0;32m   1662\u001b[0m     f,\n\u001b[0;32m   1663\u001b[0m     mode,\n\u001b[0;32m   1664\u001b[0m     encoding\u001b[39m=\u001b[39;49m\u001b[39mself\u001b[39;49m\u001b[39m.\u001b[39;49moptions\u001b[39m.\u001b[39;49mget(\u001b[39m\"\u001b[39;49m\u001b[39mencoding\u001b[39;49m\u001b[39m\"\u001b[39;49m, \u001b[39mNone\u001b[39;49;00m),\n\u001b[0;32m   1665\u001b[0m     compression\u001b[39m=\u001b[39;49m\u001b[39mself\u001b[39;49m\u001b[39m.\u001b[39;49moptions\u001b[39m.\u001b[39;49mget(\u001b[39m\"\u001b[39;49m\u001b[39mcompression\u001b[39;49m\u001b[39m\"\u001b[39;49m, \u001b[39mNone\u001b[39;49;00m),\n\u001b[0;32m   1666\u001b[0m     memory_map\u001b[39m=\u001b[39;49m\u001b[39mself\u001b[39;49m\u001b[39m.\u001b[39;49moptions\u001b[39m.\u001b[39;49mget(\u001b[39m\"\u001b[39;49m\u001b[39mmemory_map\u001b[39;49m\u001b[39m\"\u001b[39;49m, \u001b[39mFalse\u001b[39;49;00m),\n\u001b[0;32m   1667\u001b[0m     is_text\u001b[39m=\u001b[39;49mis_text,\n\u001b[0;32m   1668\u001b[0m     errors\u001b[39m=\u001b[39;49m\u001b[39mself\u001b[39;49m\u001b[39m.\u001b[39;49moptions\u001b[39m.\u001b[39;49mget(\u001b[39m\"\u001b[39;49m\u001b[39mencoding_errors\u001b[39;49m\u001b[39m\"\u001b[39;49m, \u001b[39m\"\u001b[39;49m\u001b[39mstrict\u001b[39;49m\u001b[39m\"\u001b[39;49m),\n\u001b[0;32m   1669\u001b[0m     storage_options\u001b[39m=\u001b[39;49m\u001b[39mself\u001b[39;49m\u001b[39m.\u001b[39;49moptions\u001b[39m.\u001b[39;49mget(\u001b[39m\"\u001b[39;49m\u001b[39mstorage_options\u001b[39;49m\u001b[39m\"\u001b[39;49m, \u001b[39mNone\u001b[39;49;00m),\n\u001b[0;32m   1670\u001b[0m )\n\u001b[0;32m   1671\u001b[0m \u001b[39massert\u001b[39;00m \u001b[39mself\u001b[39m\u001b[39m.\u001b[39mhandles \u001b[39mis\u001b[39;00m \u001b[39mnot\u001b[39;00m \u001b[39mNone\u001b[39;00m\n\u001b[0;32m   1672\u001b[0m f \u001b[39m=\u001b[39m \u001b[39mself\u001b[39m\u001b[39m.\u001b[39mhandles\u001b[39m.\u001b[39mhandle\n",
      "File \u001b[1;32mc:\\Users\\Pradyumna\\AppData\\Local\\Programs\\Python\\Python311\\Lib\\site-packages\\pandas\\io\\common.py:859\u001b[0m, in \u001b[0;36mget_handle\u001b[1;34m(path_or_buf, mode, encoding, compression, memory_map, is_text, errors, storage_options)\u001b[0m\n\u001b[0;32m    854\u001b[0m \u001b[39melif\u001b[39;00m \u001b[39misinstance\u001b[39m(handle, \u001b[39mstr\u001b[39m):\n\u001b[0;32m    855\u001b[0m     \u001b[39m# Check whether the filename is to be opened in binary mode.\u001b[39;00m\n\u001b[0;32m    856\u001b[0m     \u001b[39m# Binary mode does not support 'encoding' and 'newline'.\u001b[39;00m\n\u001b[0;32m    857\u001b[0m     \u001b[39mif\u001b[39;00m ioargs\u001b[39m.\u001b[39mencoding \u001b[39mand\u001b[39;00m \u001b[39m\"\u001b[39m\u001b[39mb\u001b[39m\u001b[39m\"\u001b[39m \u001b[39mnot\u001b[39;00m \u001b[39min\u001b[39;00m ioargs\u001b[39m.\u001b[39mmode:\n\u001b[0;32m    858\u001b[0m         \u001b[39m# Encoding\u001b[39;00m\n\u001b[1;32m--> 859\u001b[0m         handle \u001b[39m=\u001b[39m \u001b[39mopen\u001b[39;49m(\n\u001b[0;32m    860\u001b[0m             handle,\n\u001b[0;32m    861\u001b[0m             ioargs\u001b[39m.\u001b[39;49mmode,\n\u001b[0;32m    862\u001b[0m             encoding\u001b[39m=\u001b[39;49mioargs\u001b[39m.\u001b[39;49mencoding,\n\u001b[0;32m    863\u001b[0m             errors\u001b[39m=\u001b[39;49merrors,\n\u001b[0;32m    864\u001b[0m             newline\u001b[39m=\u001b[39;49m\u001b[39m\"\u001b[39;49m\u001b[39m\"\u001b[39;49m,\n\u001b[0;32m    865\u001b[0m         )\n\u001b[0;32m    866\u001b[0m     \u001b[39melse\u001b[39;00m:\n\u001b[0;32m    867\u001b[0m         \u001b[39m# Binary mode\u001b[39;00m\n\u001b[0;32m    868\u001b[0m         handle \u001b[39m=\u001b[39m \u001b[39mopen\u001b[39m(handle, ioargs\u001b[39m.\u001b[39mmode)\n",
      "\u001b[1;31mFileNotFoundError\u001b[0m: [Errno 2] No such file or directory: 'LS2014Candidate.csv'"
     ]
    }
   ],
   "source": [
    "import pandas as pd\n",
    "from collections import defaultdict\n",
    "#df = pd.read_csv(\"election-results-csv/LS2009Candidate.csv\")\n",
    "df = pd.read_csv(\"LS2014Candidate.csv\")"
   ]
  },
  {
   "cell_type": "code",
   "execution_count": 25,
   "metadata": {},
   "outputs": [
    {
     "data": {
      "text/plain": [
       "'No swings'"
      ]
     },
     "execution_count": 25,
     "metadata": {},
     "output_type": "execute_result"
    }
   ],
   "source": [
    "\"\"\"Coalitions in 2014\"\"\"\n",
    "#NDACoalition = [\"BJP\",\"SHS\",\"TDP\",\"LJP\",\"SAD\",\"BLSP\",\"SWP\",\"AD\",\"PMK\",\"AINRC\",\"NPF\",\"NPEP\"]\n",
    "#UPACoalition = [\"INC\",\"NCP\",\"RJD\",\"IUML\",\"JMM\",\"KEC(M)\",\"RSP\"]\n",
    "\n",
    "\"\"\"If BJP and INC were alone\"\"\"\n",
    "#NDACoalition = [\"BJP\"]\n",
    "#UPACoalition = [\"INC\"]\n",
    "\n",
    "\"\"\"Expected Coalitions in 2019\"\"\" \n",
    "NDACoalition = [\"BJP\", \"SHS\",\"JD(U)\",\"LJP\",\"NPF\",\"SAD\",\"BLSP\", \"SWP\",\"PMK\",\"NPEP\",\"AINRC\",\"ADMK\", \"AGP\"]\n",
    "UPACoalition = [\"INC\", \"AD\", \"RJD\",\"NCP\", \"DMK\",\"IUML\",\"JD(S)\",\"JKN\",\"JMM\",\"KEC(M)\",\"RSP\",\"BOPF\"]\n",
    "\n",
    "\"\"\"In percent. Incumbent swings are likelier to be lesser, as people want change.\"\"\"\n",
    "ndaSwingIncumbent = 93\n",
    "ndaSwingNotIncumbent = 97\n",
    "upaSwingIncumbent = 103\n",
    "upaSwingNotIncumbent = 107\n",
    "\n",
    "\"\"\"No swings\"\"\"\n",
    "#ndaSwingIncumbent = 100\n",
    "#ndaSwingNotIncumbent = 100\n",
    "#upaSwingIncumbent = 100\n",
    "#upaSwingNotIncumbent = 100\n"
   ]
  },
  {
   "cell_type": "code",
   "execution_count": 26,
   "metadata": {},
   "outputs": [],
   "source": [
    "#totalVotesCount = df.loc[(df['Party Abbreviation'].isin(UPACoalition+NDACoalition)), ['Total Votes Polled']].sum()\n",
    "totalVotesCount = 0\n",
    "totalNdaVotesCount = 0\n",
    "totalUpaVotesCount = 0\n",
    "totalMgbVotesCount = 0"
   ]
  },
  {
   "cell_type": "code",
   "execution_count": 27,
   "metadata": {},
   "outputs": [],
   "source": [
    "firstNDA = df.loc[(df['Party Abbreviation'].isin(NDACoalition)) & (df['Position'] == 1)]\n",
    "firstUPA = df.loc[(df['Party Abbreviation'].isin(UPACoalition)) & (df['Position'] == 1)]\n",
    "#firstOther = df.loc[~(df['Party Abbreviation'].isin(UPACoalition+NDACoalition)) & (df['Position'] == 1)]"
   ]
  },
  {
   "cell_type": "code",
   "execution_count": null,
   "metadata": {},
   "outputs": [],
   "source": [
    "\"\"\" PROTOTYPE FOR UTTAR PRADESH\n",
    "firstBJPInUP = df.loc[(df['Party Abbreviation'] == \"BJP\") & (df['Position'] == 1) & (df['State name'] == 'Uttar Pradesh')]\n",
    "c = 0\n",
    "numberOfSeatsLost = 0\n",
    "numberOfSeatsWon = 0\n",
    "\n",
    "totalBjpVotes = 0\n",
    "totalCoalitionVotes = 0\n",
    "totalVotes = 0\n",
    "\n",
    "for constIndex, constRow in firstBJPInUP.iterrows():\n",
    "    selected = df.loc[(df[\"ST_CODE\"] == constRow[\"ST_CODE\"]) & (df[\"PC Number\"] == constRow[\"PC Number\"])]\n",
    "    coalitionVotes = 0\n",
    "    bjpVotes = 0\n",
    "    \n",
    "    for index,row in selected.iterrows():\n",
    "        totalVotes += row['Total Votes Polled']\n",
    "        if (row['Party Abbreviation'] in [\"SP\",\"BSP\",\"INC\",\"RLD\"]):\n",
    "            coalitionVotes += row['Total Votes Polled']\n",
    "        if (row['Party Abbreviation'] == 'BJP'):\n",
    "            bjpVotes += row['Total Votes Polled']\n",
    "    totalBjpVotes += bjpVotes\n",
    "    totalCoalitionVotes += coalitionVotes\n",
    "    \n",
    "    if (bjpVotes < coalitionVotes):  \n",
    "        numberOfSeatsLost += 1\n",
    "        margin = coalitionVotes-bjpVotes\n",
    "        #print(\"BJP LOSES THE SEAT: \"+constRow[\"PC name\"]+ \" Margin: \"+str(margin)+\" votes\") \n",
    "    else:\n",
    "        numberOfSeatsWon += 1\n",
    "        margin = bjpVotes-coalitionVotes\n",
    "        #print(\"BJP STILL WINS THE SEAT: \"+constRow[\"PC name\"]+ \" Margin: \"+str(margin)+\" votes\") \n",
    "        \n",
    "print(\"Lost: \" + str(numberOfSeatsLost)+\" Won: \"+str(numberOfSeatsWon))\n",
    "bjpVoteShare = totalBjpVotes/totalVotes*100\n",
    "coalitionVoteShare = totalCoalitionVotes/totalVotes*100\n",
    "print(\"Vote Share\\nBJP: \"+str(bjpVoteShare)+\"% INC/SP/BSP/RLD: \"+str(coalitionVoteShare)+\"%\")\n",
    "\"\"\"\n",
    "        "
   ]
  },
  {
   "cell_type": "code",
   "execution_count": 28,
   "metadata": {
    "scrolled": false
   },
   "outputs": [
    {
     "name": "stdout",
     "output_type": "stream",
     "text": [
      "FROM NDA SEATS (331):\n",
      "Won by UPA: 0 \n",
      "Won by Others: 0 \n",
      "Still Won by NDA: 331\n",
      "\n",
      "\n",
      "TOTAL WON BY NDA IN 2014 REALITY\n",
      "defaultdict(<class 'int'>, {'Andhra Pradesh': 3, 'Arunachal Pradesh': 1, 'Assam': 7, 'Bihar': 33, 'Goa': 2, 'Gujarat': 26, 'Haryana': 7, 'Himachal Pradesh': 4, 'Jammu & Kashmir': 3, 'Karnataka': 17, 'Madhya Pradesh': 27, 'Maharashtra': 42, 'Meghalaya': 1, 'Nagaland': 1, 'Odisha': 1, 'Punjab': 6, 'Rajasthan': 25, 'Tamil Nadu': 39, 'Uttar Pradesh': 71, 'West Bengal': 2, 'Chattisgarh': 10, 'Jharkhand': 12, 'Uttarakhand': 5, 'Andaman & Nicobar Islands': 1, 'Chandigarh': 1, 'Dadra & Nagar Haveli': 1, 'Daman & Diu': 1, 'NCT OF Delhi': 7, 'Puducherry': 1})\n",
      "\n",
      "\n",
      "WON BY UPA FROM NDA SEATS IN 2014 AFTER COALITION\n",
      "defaultdict(<class 'int'>, {})\n",
      "\n",
      "\n",
      "WON BY NDA FROM NDA SEATS IN 2014 AFTER COALITION\n",
      "defaultdict(<class 'int'>, {'Andhra Pradesh': 3, 'Arunachal Pradesh': 1, 'Assam': 6, 'Bihar': 33, 'Goa': 2, 'Gujarat': 25, 'Haryana': 7, 'Himachal Pradesh': 3, 'Jammu & Kashmir': 2, 'Karnataka': 11, 'Madhya Pradesh': 25, 'Maharashtra': 41, 'Meghalaya': 1, 'Nagaland': 1, 'Odisha': 1, 'Punjab': 2, 'Rajasthan': 24, 'Tamil Nadu': 37, 'Uttar Pradesh': 71, 'West Bengal': 2, 'Chattisgarh': 7, 'Jharkhand': 11, 'Uttarakhand': 5, 'Chandigarh': 1, 'Daman & Diu': 1, 'NCT OF Delhi': 7, 'Puducherry': 1})\n",
      "\n",
      "\n"
     ]
    }
   ],
   "source": [
    "c = 0\n",
    "upaSeatsFromNDA2014 = 0\n",
    "ndaSeatsFromNDA2014 = 0\n",
    "ndaSeatsFromUPA2014 = 0\n",
    "upaSeatsFromUPA2014 = 0\n",
    "mgbSeatsFromNDA2014 = 0\n",
    "\n",
    "\n",
    "\n",
    "nda2014SeatsStatewise=defaultdict(int); #where NDA was first in 2014\n",
    "ndaSeatsStatewiseFromNDA2014=defaultdict(int); #after grand colition ndaSeats\n",
    "upaSeatsStatewiseFromNDA2014=defaultdict(int);#after grand coalition upaSeats\n",
    "upaSeatsStatewiseFromUPA2014=defaultdict(int);\n",
    "ndaSeatsStatewiseFromUPA2014=defaultdict(int);\n",
    "\n",
    "\n",
    "for constIndex, constRow in firstNDA.iterrows():\n",
    "    nda2014SeatsStatewise[constRow[\"State name\"]] += 1;\n",
    "    selected = df.loc[(df[\"ST_CODE\"] == constRow[\"ST_CODE\"]) & (df[\"PC Number\"] == constRow[\"PC Number\"])]\n",
    "    upaVotes = 0;\n",
    "    ndaVotes = 0;\n",
    "    for index,row in selected.iterrows():\n",
    "        totalVotesCount += row['Total Votes Polled']\n",
    "        if (row['Party Abbreviation'] in UPACoalition):\n",
    "            upaVotes += (upaSwingNotIncumbent/100)*row['Total Votes Polled']\n",
    "        if (row['Party Abbreviation'] in NDACoalition):\n",
    "            ndaVotes += (ndaSwingIncumbent/100)*row['Total Votes Polled']\n",
    "    totalNdaVotesCount += ndaVotes \n",
    "    totalUpaVotesCount += upaVotes\n",
    "    if (ndaVotes > upaVotes):  \n",
    "        ndaSeatsFromNDA2014 += 1\n",
    "        margin = ndaVotes-upaVotes\n",
    "        ndaSeatsStatewiseFromNDA2014[constRow[\"State name\"]] += 1;\n",
    "    else:\n",
    "        ndaSeatsFromUPA2014 += 1\n",
    "        margin = upaVotes-ndaVotes\n",
    "        ndaSeatsStatewiseFromUPA2014[constRow[\"State name\"]] += 1;\n",
    "\n",
    "totalNDASeats2014 = upaSeatsFromNDA2014+ndaSeatsFromNDA2014      \n",
    "print(\"FROM NDA SEATS (\"+str(totalNDASeats2014)+\"):\\nWon by UPA: \" + str(upaSeatsFromNDA2014)+\" \\nWon by Others: \" + str(mgbSeatsFromNDA2014)+\" \\nStill Won by NDA: \"+str(ndaSeatsFromNDA2014))\n",
    "\n",
    "print('\\n')\n",
    "print(\"TOTAL WON BY NDA IN 2014 REALITY\")\n",
    "print(nda2014SeatsStatewise)\n",
    "print('\\n')\n",
    "\n",
    "print(\"WON BY UPA FROM NDA SEATS IN 2014 AFTER COALITION\")\n",
    "print(upaSeatsStatewiseFromNDA2014)\n",
    "print('\\n') \n",
    "\n",
    "print(\"WON BY NDA FROM NDA SEATS IN 2014 AFTER COALITION\")\n",
    "print(ndaSeatsStatewiseFromNDA2014)\n",
    "print('\\n')\n",
    "\n",
    "   \n",
    "        "
   ]
  },
  {
   "cell_type": "code",
   "execution_count": 18,
   "metadata": {
    "scrolled": false
   },
   "outputs": [
    {
     "name": "stdout",
     "output_type": "stream",
     "text": [
      "FROM UPA SEATS (64):\n",
      "Won by NDA: 4 \n",
      "Still Won by UPA: 60\n",
      "\n",
      "\n",
      "TOTAL WON BY UPA IN 2014 REALITY\n",
      "defaultdict(<class 'int'>, {'Andhra Pradesh': 2, 'Arunachal Pradesh': 1, 'Assam': 3, 'Bihar': 7, 'Haryana': 1, 'Karnataka': 11, 'Kerala': 12, 'Madhya Pradesh': 2, 'Maharashtra': 6, 'Manipur': 2, 'Meghalaya': 1, 'Mizoram': 1, 'Punjab': 3, 'Uttar Pradesh': 4, 'West Bengal': 4, 'Chattisgarh': 1, 'Jharkhand': 2, 'Lakshadweep': 1})\n",
      "\n",
      "\n",
      "WON BY NDA FROM UPA SEATS IN 2014 AFTER COALITION\n",
      "defaultdict(<class 'int'>, {'Bihar': 4})\n",
      "\n",
      "\n",
      "WON BY UPA FROM UPA SEATS IN 2014 AFTER COALITION\n",
      "defaultdict(<class 'int'>, {'Andhra Pradesh': 2, 'Arunachal Pradesh': 1, 'Assam': 3, 'Bihar': 3, 'Haryana': 1, 'Karnataka': 11, 'Kerala': 12, 'Madhya Pradesh': 2, 'Maharashtra': 6, 'Manipur': 2, 'Meghalaya': 1, 'Mizoram': 1, 'Punjab': 3, 'Uttar Pradesh': 4, 'West Bengal': 4, 'Chattisgarh': 1, 'Jharkhand': 2, 'Lakshadweep': 1})\n",
      "\n",
      "\n"
     ]
    }
   ],
   "source": [
    "c = 0\n",
    "upaSeatsFromUPA2014 = 0;\n",
    "ndaSeatsFromUPA2014 = 0;\n",
    "\n",
    "upa2014SeatsStatewise=defaultdict(int); #where UPA was first in 2014\n",
    "ndaSeatsStatewiseFromUPA2014=defaultdict(int); #after grand colition ndaSeats\n",
    "upaSeatsStatewiseFromUPA2014=defaultdict(int); #after grand coalition upaSeats\n",
    "\n",
    "for constIndex, constRow in firstUPA.iterrows():\n",
    "    upa2014SeatsStatewise[constRow[\"State name\"]] += 1;\n",
    "    selected = df.loc[(df[\"ST_CODE\"] == constRow[\"ST_CODE\"]) & (df[\"PC Number\"] == constRow[\"PC Number\"])]\n",
    "    upaVotes = 0;\n",
    "    ndaVotes = 0;\n",
    "    for index,row in selected.iterrows():\n",
    "        totalVotesCount += row['Total Votes Polled']\n",
    "        if (row['Party Abbreviation'] in UPACoalition):\n",
    "            upaVotes += (upaSwingIncumbent/100)*row['Total Votes Polled']\n",
    "        if (row['Party Abbreviation'] in NDACoalition):\n",
    "            ndaVotes += (ndaSwingNotIncumbent/100)*row['Total Votes Polled']\n",
    "    totalNdaVotesCount += ndaVotes \n",
    "    totalUpaVotesCount += upaVotes         \n",
    "    if (upaVotes > ndaVotes):  \n",
    "        upaSeatsFromUPA2014 += 1\n",
    "        margin = upaVotes-ndaVotes\n",
    "        upaSeatsStatewiseFromUPA2014[constRow[\"State name\"]] += 1;\n",
    "    else:\n",
    "        ndaSeatsFromUPA2014 += 1\n",
    "        margin = ndaVotes-upaVotes\n",
    "        ndaSeatsStatewiseFromUPA2014[constRow[\"State name\"]] += 1;\n",
    "\n",
    "totalUPASeats2014 = upaSeatsFromUPA2014+ndaSeatsFromUPA2014\n",
    "print(\"FROM UPA SEATS (\"+str(totalUPASeats2014)+\"):\\nWon by NDA: \" + str(ndaSeatsFromUPA2014)+\" \\nStill Won by UPA: \"+str(upaSeatsFromUPA2014))\n",
    "\n",
    "print('\\n')\n",
    "print(\"TOTAL WON BY UPA IN 2014 REALITY\")\n",
    "print(upa2014SeatsStatewise)\n",
    "print('\\n')\n",
    "\n",
    "print(\"WON BY NDA FROM UPA SEATS IN 2014 AFTER COALITION\")\n",
    "print(ndaSeatsStatewiseFromUPA2014)\n",
    "print('\\n') \n",
    "\n",
    "print(\"WON BY UPA FROM UPA SEATS IN 2014 AFTER COALITION\")\n",
    "print(upaSeatsStatewiseFromUPA2014)\n",
    "print('\\n')\n",
    "\n"
   ]
  },
  {
   "cell_type": "code",
   "execution_count": 29,
   "metadata": {},
   "outputs": [
    {
     "name": "stdout",
     "output_type": "stream",
     "text": [
      "64\n",
      "331\n"
     ]
    }
   ],
   "source": [
    "print(totalUPASeats2014)\n",
    "print(totalNDASeats2014)"
   ]
  },
  {
   "cell_type": "code",
   "execution_count": 30,
   "metadata": {},
   "outputs": [
    {
     "name": "stdout",
     "output_type": "stream",
     "text": [
      "64\n",
      "331\n",
      "TOTAL SEATS (395):\n",
      "defaultdict(<class 'int'>, {'Andhra Pradesh': 5, 'Arunachal Pradesh': 2, 'Assam': 10, 'Bihar': 40, 'Haryana': 8, 'Karnataka': 28, 'Kerala': 12, 'Madhya Pradesh': 29, 'Maharashtra': 48, 'Manipur': 2, 'Meghalaya': 2, 'Mizoram': 1, 'Punjab': 9, 'Uttar Pradesh': 75, 'West Bengal': 6, 'Chattisgarh': 11, 'Jharkhand': 14, 'Lakshadweep': 1, 'Goa': 2, 'Gujarat': 26, 'Himachal Pradesh': 4, 'Jammu & Kashmir': 3, 'Nagaland': 1, 'Odisha': 1, 'Rajasthan': 25, 'Tamil Nadu': 39, 'Uttarakhand': 5, 'Andaman & Nicobar Islands': 1, 'Chandigarh': 1, 'Dadra & Nagar Haveli': 1, 'Daman & Diu': 1, 'NCT OF Delhi': 7, 'Puducherry': 1})\n",
      "\n",
      "\n",
      "TOTAL NDA SEATS STATEWISE (FROM NDA AND UPA) ARE 357\n",
      "defaultdict(<class 'int'>, {'Andhra Pradesh': 3, 'Arunachal Pradesh': 1, 'Assam': 7, 'Bihar': 33, 'Goa': 2, 'Gujarat': 26, 'Haryana': 7, 'Himachal Pradesh': 4, 'Jammu & Kashmir': 3, 'Karnataka': 17, 'Madhya Pradesh': 27, 'Maharashtra': 42, 'Meghalaya': 1, 'Nagaland': 1, 'Odisha': 1, 'Punjab': 6, 'Rajasthan': 25, 'Tamil Nadu': 39, 'Uttar Pradesh': 71, 'West Bengal': 2, 'Chattisgarh': 10, 'Jharkhand': 12, 'Uttarakhand': 5, 'Chandigarh': 1, 'Daman & Diu': 1, 'NCT OF Delhi': 7, 'Puducherry': 1, 'Andaman & Nicobar Islands': 1, 'Dadra & Nagar Haveli': 1})\n",
      "\n",
      "\n",
      "TOTAL UPA SEATS STATEWISE (FROM UPA AND NDA) ARE 0\n",
      "defaultdict(<class 'int'>, {})\n",
      "\n",
      "\n",
      "NDA Vote Share: 47.83540668637748 | UPA Vote Share: 27.784970967452566 in NDA/UPA winning seats\n"
     ]
    }
   ],
   "source": [
    "print(totalUPASeats2014)\n",
    "print(totalNDASeats2014)\n",
    "totalSeats = totalNDASeats2014 + totalUPASeats2014\n",
    "print(\"TOTAL SEATS (\"+str(totalSeats)+\"):\")#either won by UPA or NDA\n",
    "\n",
    "finalUpaSeats = upaSeatsFromNDA2014 + upaSeatsFromUPA2014\n",
    "finalNdaSeats = ndaSeatsFromNDA2014 + ndaSeatsFromUPA2014\n",
    "\n",
    "total2014SeatsStatewise = defaultdict(int) \n",
    "for k,v in upa2014SeatsStatewise.items():\n",
    "    total2014SeatsStatewise[k] += upa2014SeatsStatewise[k]\n",
    "for k,v in nda2014SeatsStatewise.items():\n",
    "    total2014SeatsStatewise[k] += nda2014SeatsStatewise[k] \n",
    "print(total2014SeatsStatewise)\n",
    "print(\"\\n\")\n",
    "\n",
    "print(\"TOTAL NDA SEATS STATEWISE (FROM NDA AND UPA) ARE \"+str(finalNdaSeats))\n",
    "totalNDASeatsStatewise = defaultdict(int)\n",
    "for k,v in ndaSeatsStatewiseFromNDA2014.items():\n",
    "    totalNDASeatsStatewise[k] += ndaSeatsStatewiseFromNDA2014[k]\n",
    "for k,v in ndaSeatsStatewiseFromUPA2014.items():\n",
    "    totalNDASeatsStatewise[k] += ndaSeatsStatewiseFromUPA2014[k]\n",
    "print(totalNDASeatsStatewise)\n",
    "print(\"\\n\")\n",
    "\n",
    "print(\"TOTAL UPA SEATS STATEWISE (FROM UPA AND NDA) ARE \"+str(finalUpaSeats))\n",
    "totalUPASeatsStatewise = defaultdict(int)\n",
    "for k,v in upaSeatsStatewiseFromUPA2014.items():\n",
    "    totalUPASeatsStatewise[k] += upaSeatsStatewiseFromUPA2014[k]\n",
    "for k,v in upaSeatsStatewiseFromNDA2014.items():\n",
    "    totalUPASeatsStatewise[k] += upaSeatsStatewiseFromNDA2014[k]\n",
    "print(totalUPASeatsStatewise)\n",
    "print(\"\\n\")\n",
    "\n",
    "voteShareNDA = totalNdaVotesCount/totalVotesCount*100\n",
    "voteShareUPA = totalUpaVotesCount/totalVotesCount*100\n",
    "print(\"NDA Vote Share: \"+str(voteShareNDA)+\" | UPA Vote Share: \"+str(voteShareUPA)+\" in NDA/UPA winning seats\")\n"
   ]
  },
  {
   "cell_type": "code",
   "execution_count": null,
   "metadata": {},
   "outputs": [],
   "source": []
  }
 ],
 "metadata": {
  "kernelspec": {
   "display_name": "Python 3",
   "language": "python",
   "name": "python3"
  },
  "language_info": {
   "codemirror_mode": {
    "name": "ipython",
    "version": 3
   },
   "file_extension": ".py",
   "mimetype": "text/x-python",
   "name": "python",
   "nbconvert_exporter": "python",
   "pygments_lexer": "ipython3",
   "version": "3.11.2"
  }
 },
 "nbformat": 4,
 "nbformat_minor": 2
}
